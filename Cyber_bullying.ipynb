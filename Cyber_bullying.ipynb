{
 "cells": [
  {
   "cell_type": "markdown",
   "metadata": {},
   "source": [
    "#### Что такое буллинг\n",
    "\n",
    "Буллинг – проявление психологического насилия, направленное на то, чтобы сознательно доставить человеку дискомфорт и страдания, вызвать у него страх и подчинить с его помощью себе. Такое насилие носит длительный и систематический характер, и в случае детей от 7 до 18 лет, осуществляется в адрес личностей, по причине возраста и незрелости неспособных защитить себя.\n",
    "\n",
    "Кибербуллинг может отличаться от обычного буллинга анонимностью. Как показывают исследования, “кибер-жертвы” в большинстве случаев не знают, кто агрессор (Kowalski, Limber, 2007)."
   ]
  },
  {
   "cell_type": "markdown",
   "metadata": {},
   "source": [
    "#### Каковы последствия кибербуллинга в 21-м веке?\n",
    "\n",
    "Последствия кибербулинга очень разнятся и степень их серьезности значительно отличается. Кибербуллинг может привести к:\n",
    "\n",
    "- росту уровня тревоги\n",
    "- стрессу\n",
    "- нарушению сна\n",
    "- психосоматическим расстройствам\n",
    "- снижению академической успеваемости и прогулам\n",
    "- снижению самооценки\n",
    "- депрессии.\n",
    "Недоброжелатели у каждого человека есть и в обычной жизни, но когда вашу жизнь могут наблюдать 5-10 человек, и когда вы каждый день находитесь под наблюдением и влиянием от 10 до 1000 (в соцсетях) и более 10 000 людей (в блогах, в зависимости от количества подписчиков), давление сильно растет. Не каждый может выдержать информационный негативный поток в свой адрес. Блогеры последних лет практически все прошли через настоящую интернет-травлю."
   ]
  },
  {
   "cell_type": "markdown",
   "metadata": {},
   "source": [
    "#### Как защититься от кибербуллинга?\n",
    "\n",
    "- Не выкладывать личные данные: адреса, фотографии, телефоны, почты и тем более - пароли от почт или личных кабинетов.\n",
    "- Не общаться с незнакомцами. По данным ежегодного опроса «Лаборатории Касперского», 70% детей принимают заявки в “друзья” от незнакомых людей, более 30% встречались с ними в онлайне. \n",
    "- Не высказываться негативно о других в виртуальной среде.\n",
    "- Игнорировать агрессию и угрозы. \n",
    "- Читать просветительские статьи, а также использовать специальные приложения для защиты. Для безопасности детей обязательно купить приложение, которое позволяет понять, какие сайты просматривает ребенок, настроить доступ к безопасным сайтам и ограничить времяпровождение в соцсетях и сайтах с агрессивной средой."
   ]
  },
  {
   "cell_type": "code",
   "execution_count": 1,
   "metadata": {},
   "outputs": [],
   "source": [
    "import pandas            as pd\n",
    "import matplotlib.pyplot as plt\n",
    "import seaborn           as sns"
   ]
  },
  {
   "cell_type": "code",
   "execution_count": 2,
   "metadata": {},
   "outputs": [],
   "source": [
    "df = pd.read_csv('data.csv', sep=',')"
   ]
  },
  {
   "cell_type": "code",
   "execution_count": 3,
   "metadata": {},
   "outputs": [
    {
     "data": {
      "text/html": [
       "<div>\n",
       "<style scoped>\n",
       "    .dataframe tbody tr th:only-of-type {\n",
       "        vertical-align: middle;\n",
       "    }\n",
       "\n",
       "    .dataframe tbody tr th {\n",
       "        vertical-align: top;\n",
       "    }\n",
       "\n",
       "    .dataframe thead th {\n",
       "        text-align: right;\n",
       "    }\n",
       "</style>\n",
       "<table border=\"1\" class=\"dataframe\">\n",
       "  <thead>\n",
       "    <tr style=\"text-align: right;\">\n",
       "      <th></th>\n",
       "      <th>Timestamp</th>\n",
       "      <th>Email Address</th>\n",
       "      <th>What's Your Age?</th>\n",
       "      <th>What do you consider as Cyber bullying?</th>\n",
       "      <th>What Age group of people are most Vulnerable to Cyber bullying</th>\n",
       "      <th>Have you ever been cyber bullied?</th>\n",
       "      <th>If Yes , What was the way you dealt with the same</th>\n",
       "      <th>What do you think made you the victim of cyber bullying?</th>\n",
       "      <th>What Platform according to you leads in cyber bullying</th>\n",
       "      <th>What type of people are usually the bullies on the internet?</th>\n",
       "      <th>Have You ever knowingly / Unknowingly bullied someone on the internet?</th>\n",
       "      <th>What lead you to bully someone ? ( if yes )</th>\n",
       "      <th>What kind of people are usually the victims of cyber-bullying?</th>\n",
       "      <th>What are the causes of cyber bullying according to you</th>\n",
       "      <th>What has more impact on an individual , Cyber Bullying or Bullying in real life ?</th>\n",
       "      <th>Who are bullies usually?</th>\n",
       "      <th>Youtube Roasting is a form of bullying. Do you agree ?</th>\n",
       "      <th>Your opinion on the dank communities on  the internet , usually involved in bullying?</th>\n",
       "    </tr>\n",
       "  </thead>\n",
       "  <tbody>\n",
       "    <tr>\n",
       "      <th>0</th>\n",
       "      <td>1/22/2022 11:39:31</td>\n",
       "      <td>armadhav2007@gmail.com</td>\n",
       "      <td>15 - 18</td>\n",
       "      <td>Hacking / Phishing your private details, Spamm...</td>\n",
       "      <td>19-30</td>\n",
       "      <td>No</td>\n",
       "      <td>NaN</td>\n",
       "      <td>NaN</td>\n",
       "      <td>Whatsapp / Email</td>\n",
       "      <td>for money</td>\n",
       "      <td>No</td>\n",
       "      <td>NaN</td>\n",
       "      <td>All of above</td>\n",
       "      <td>Lack of awareness</td>\n",
       "      <td>Cyber Bullying</td>\n",
       "      <td>Can be both</td>\n",
       "      <td>No</td>\n",
       "      <td>-</td>\n",
       "    </tr>\n",
       "    <tr>\n",
       "      <th>1</th>\n",
       "      <td>1/22/2022 11:40:39</td>\n",
       "      <td>nikhilkumar38674@gmail.com</td>\n",
       "      <td>Above 18</td>\n",
       "      <td>Hacking / Phishing your private details, Spamm...</td>\n",
       "      <td>equally vulnerable</td>\n",
       "      <td>No</td>\n",
       "      <td>NaN</td>\n",
       "      <td>NaN</td>\n",
       "      <td>Discord</td>\n",
       "      <td>computer friendly</td>\n",
       "      <td>Yes</td>\n",
       "      <td>privacy leak</td>\n",
       "      <td>People with Distinctive Physical appearance</td>\n",
       "      <td>Lack of awareness</td>\n",
       "      <td>equal impact</td>\n",
       "      <td>Can be both</td>\n",
       "      <td>Yes</td>\n",
       "      <td>no</td>\n",
       "    </tr>\n",
       "    <tr>\n",
       "      <th>2</th>\n",
       "      <td>1/22/2022 11:41:15</td>\n",
       "      <td>guptasayyam7@gmail.com</td>\n",
       "      <td>15 - 18</td>\n",
       "      <td>Spamming , Unlawfully morphing your images, Me...</td>\n",
       "      <td>15 - 18</td>\n",
       "      <td>Yes</td>\n",
       "      <td>Blocked / Reported The Bully</td>\n",
       "      <td>idk\\n</td>\n",
       "      <td>Discord</td>\n",
       "      <td>anyone can get cyber bullied</td>\n",
       "      <td>No</td>\n",
       "      <td>NaN</td>\n",
       "      <td>All of above</td>\n",
       "      <td>Lack of awareness</td>\n",
       "      <td>equal impact</td>\n",
       "      <td>Can be both</td>\n",
       "      <td>No</td>\n",
       "      <td>goverment should take a action</td>\n",
       "    </tr>\n",
       "    <tr>\n",
       "      <th>3</th>\n",
       "      <td>1/22/2022 11:41:57</td>\n",
       "      <td>sonaissuhani@gmail.com</td>\n",
       "      <td>15 - 18</td>\n",
       "      <td>Mean/Inappropriate Comments, Pranks Calls by s...</td>\n",
       "      <td>15 - 18</td>\n",
       "      <td>Yes</td>\n",
       "      <td>I was scared to do anything, Blocked / Reporte...</td>\n",
       "      <td>my immatureness</td>\n",
       "      <td>Instagram</td>\n",
       "      <td>people who are just useless and dont have anyt...</td>\n",
       "      <td>Yes</td>\n",
       "      <td>revenge to my bully</td>\n",
       "      <td>All of above</td>\n",
       "      <td>Lack of awareness</td>\n",
       "      <td>Cyber Bullying</td>\n",
       "      <td>A stranger</td>\n",
       "      <td>Yes</td>\n",
       "      <td>According to my opinion, not everyone likes ge...</td>\n",
       "    </tr>\n",
       "    <tr>\n",
       "      <th>4</th>\n",
       "      <td>1/22/2022 11:42:02</td>\n",
       "      <td>madmaxhu69@gmail.com</td>\n",
       "      <td>15 - 18</td>\n",
       "      <td>Mean/Inappropriate Comments, Spamming , Unlawf...</td>\n",
       "      <td>Below 15</td>\n",
       "      <td>No</td>\n",
       "      <td>Aaj mere paas bangla 🏢 hai, gadi hai 🚗, bank-b...</td>\n",
       "      <td>Kanta 🪡 Laga 🤧 Ooi 🥴 Maa 😫\\nOoi 🥴Maa😫 Ooi 🥴Maa...</td>\n",
       "      <td>Hum💪🏻 tum mein😖 itne ched karenge 🙀👌🏻 ... ki c...</td>\n",
       "      <td>The one who ain't get attention irl and online</td>\n",
       "      <td>Yes</td>\n",
       "      <td>Are mozzer hu bhay</td>\n",
       "      <td>Influencers / Famous People</td>\n",
       "      <td>Sadism</td>\n",
       "      <td>Bullying in real life</td>\n",
       "      <td>Can be both</td>\n",
       "      <td>No</td>\n",
       "      <td>Ye gajar 🥕 hai 😮 lagta hai 🤔 abhi khanka 🍗 hai...</td>\n",
       "    </tr>\n",
       "  </tbody>\n",
       "</table>\n",
       "</div>"
      ],
      "text/plain": [
       "            Timestamp               Email Address What's Your Age?  \\\n",
       "0  1/22/2022 11:39:31      armadhav2007@gmail.com          15 - 18   \n",
       "1  1/22/2022 11:40:39  nikhilkumar38674@gmail.com         Above 18   \n",
       "2  1/22/2022 11:41:15      guptasayyam7@gmail.com          15 - 18   \n",
       "3  1/22/2022 11:41:57      sonaissuhani@gmail.com          15 - 18   \n",
       "4  1/22/2022 11:42:02        madmaxhu69@gmail.com          15 - 18   \n",
       "\n",
       "             What do you consider as Cyber bullying?  \\\n",
       "0  Hacking / Phishing your private details, Spamm...   \n",
       "1  Hacking / Phishing your private details, Spamm...   \n",
       "2  Spamming , Unlawfully morphing your images, Me...   \n",
       "3  Mean/Inappropriate Comments, Pranks Calls by s...   \n",
       "4  Mean/Inappropriate Comments, Spamming , Unlawf...   \n",
       "\n",
       "  What Age group of people are most Vulnerable to Cyber bullying  \\\n",
       "0                                              19-30               \n",
       "1                                 equally vulnerable               \n",
       "2                                            15 - 18               \n",
       "3                                            15 - 18               \n",
       "4                                           Below 15               \n",
       "\n",
       "  Have you ever been cyber bullied?  \\\n",
       "0                                No   \n",
       "1                                No   \n",
       "2                               Yes   \n",
       "3                               Yes   \n",
       "4                                No   \n",
       "\n",
       "   If Yes , What was the way you dealt with the same  \\\n",
       "0                                                NaN   \n",
       "1                                                NaN   \n",
       "2                       Blocked / Reported The Bully   \n",
       "3  I was scared to do anything, Blocked / Reporte...   \n",
       "4  Aaj mere paas bangla 🏢 hai, gadi hai 🚗, bank-b...   \n",
       "\n",
       "  What do you think made you the victim of cyber bullying?  \\\n",
       "0                                                NaN         \n",
       "1                                                NaN         \n",
       "2                                              idk\\n         \n",
       "3                                   my immatureness          \n",
       "4  Kanta 🪡 Laga 🤧 Ooi 🥴 Maa 😫\\nOoi 🥴Maa😫 Ooi 🥴Maa...         \n",
       "\n",
       "  What Platform according to you leads in cyber bullying  \\\n",
       "0                                   Whatsapp / Email       \n",
       "1                                            Discord       \n",
       "2                                            Discord       \n",
       "3                                          Instagram       \n",
       "4  Hum💪🏻 tum mein😖 itne ched karenge 🙀👌🏻 ... ki c...       \n",
       "\n",
       "  What type of people are usually the bullies on the internet?  \\\n",
       "0                                         for money              \n",
       "1                                  computer friendly             \n",
       "2                       anyone can get cyber bullied             \n",
       "3  people who are just useless and dont have anyt...             \n",
       "4     The one who ain't get attention irl and online             \n",
       "\n",
       "  Have You ever knowingly / Unknowingly bullied someone on the internet?  \\\n",
       "0                                                 No                       \n",
       "1                                                Yes                       \n",
       "2                                                 No                       \n",
       "3                                                Yes                       \n",
       "4                                                Yes                       \n",
       "\n",
       "  What lead you to bully someone ? ( if yes )  \\\n",
       "0                                         NaN   \n",
       "1                                privacy leak   \n",
       "2                                         NaN   \n",
       "3                         revenge to my bully   \n",
       "4                          Are mozzer hu bhay   \n",
       "\n",
       "  What kind of people are usually the victims of cyber-bullying?  \\\n",
       "0                                       All of above               \n",
       "1        People with Distinctive Physical appearance               \n",
       "2                                       All of above               \n",
       "3                                       All of above               \n",
       "4                        Influencers / Famous People               \n",
       "\n",
       "  What are the causes of cyber bullying according to you  \\\n",
       "0                                  Lack of awareness       \n",
       "1                                  Lack of awareness       \n",
       "2                                  Lack of awareness       \n",
       "3                                  Lack of awareness       \n",
       "4                                             Sadism       \n",
       "\n",
       "  What has more impact on an individual , Cyber Bullying or Bullying in real life ?  \\\n",
       "0                                     Cyber Bullying                                  \n",
       "1                                       equal impact                                  \n",
       "2                                       equal impact                                  \n",
       "3                                     Cyber Bullying                                  \n",
       "4                              Bullying in real life                                  \n",
       "\n",
       "  Who are bullies usually?  \\\n",
       "0              Can be both   \n",
       "1              Can be both   \n",
       "2              Can be both   \n",
       "3               A stranger   \n",
       "4              Can be both   \n",
       "\n",
       "  Youtube Roasting is a form of bullying. Do you agree ?  \\\n",
       "0                                                 No       \n",
       "1                                                Yes       \n",
       "2                                                 No       \n",
       "3                                                Yes       \n",
       "4                                                 No       \n",
       "\n",
       "  Your opinion on the dank communities on  the internet , usually involved in bullying?  \n",
       "0                                                  -                                     \n",
       "1                                                no                                      \n",
       "2                     goverment should take a action                                     \n",
       "3  According to my opinion, not everyone likes ge...                                     \n",
       "4  Ye gajar 🥕 hai 😮 lagta hai 🤔 abhi khanka 🍗 hai...                                     "
      ]
     },
     "execution_count": 3,
     "metadata": {},
     "output_type": "execute_result"
    }
   ],
   "source": [
    "df.head()"
   ]
  },
  {
   "cell_type": "markdown",
   "metadata": {},
   "source": [
    "#### При ознакомлении с данными видно, что колонки имеют очень длинные названия и нам необходимо для удобства привести их к краткому названию"
   ]
  },
  {
   "cell_type": "code",
   "execution_count": 4,
   "metadata": {},
   "outputs": [
    {
     "data": {
      "text/plain": [
       "Index(['Timestamp', 'Email Address', 'What's Your Age?',\n",
       "       'What do you consider as Cyber bullying?',\n",
       "       'What Age group of people are most Vulnerable to Cyber bullying',\n",
       "       'Have you ever been cyber bullied?',\n",
       "       'If Yes , What was the way you dealt with the same',\n",
       "       'What do you think made you the victim of cyber bullying?',\n",
       "       'What Platform according to you leads in cyber bullying',\n",
       "       'What type of people are usually the bullies on the internet?',\n",
       "       'Have You ever knowingly / Unknowingly bullied someone on the internet?',\n",
       "       'What lead you to bully someone ? ( if yes )',\n",
       "       'What kind of people are usually the victims of cyber-bullying?',\n",
       "       'What are the causes of cyber bullying according to you',\n",
       "       'What has more impact on an individual , Cyber Bullying or Bullying in real life ?',\n",
       "       'Who are bullies usually?',\n",
       "       'Youtube Roasting is a form of bullying. Do you agree ?',\n",
       "       'Your opinion on the dank communities on  the internet , usually involved in bullying?'],\n",
       "      dtype='object')"
      ]
     },
     "execution_count": 4,
     "metadata": {},
     "output_type": "execute_result"
    }
   ],
   "source": [
    "df.columns"
   ]
  },
  {
   "cell_type": "code",
   "execution_count": 5,
   "metadata": {},
   "outputs": [
    {
     "data": {
      "text/html": [
       "<div>\n",
       "<style scoped>\n",
       "    .dataframe tbody tr th:only-of-type {\n",
       "        vertical-align: middle;\n",
       "    }\n",
       "\n",
       "    .dataframe tbody tr th {\n",
       "        vertical-align: top;\n",
       "    }\n",
       "\n",
       "    .dataframe thead th {\n",
       "        text-align: right;\n",
       "    }\n",
       "</style>\n",
       "<table border=\"1\" class=\"dataframe\">\n",
       "  <thead>\n",
       "    <tr style=\"text-align: right;\">\n",
       "      <th></th>\n",
       "      <th>timestamp</th>\n",
       "      <th>email</th>\n",
       "      <th>age</th>\n",
       "      <th>term</th>\n",
       "      <th>age_group</th>\n",
       "      <th>cyber_bullied</th>\n",
       "      <th>to_cope</th>\n",
       "      <th>reason</th>\n",
       "      <th>platform_leader</th>\n",
       "      <th>type_of_people</th>\n",
       "      <th>you_bullied</th>\n",
       "      <th>reason_bully</th>\n",
       "      <th>kind_of_people</th>\n",
       "      <th>your_reason</th>\n",
       "      <th>impact</th>\n",
       "      <th>who_are_bullies</th>\n",
       "      <th>youtube_roasting</th>\n",
       "      <th>dank_communities</th>\n",
       "    </tr>\n",
       "  </thead>\n",
       "  <tbody>\n",
       "    <tr>\n",
       "      <th>0</th>\n",
       "      <td>1/22/2022 11:39:31</td>\n",
       "      <td>armadhav2007@gmail.com</td>\n",
       "      <td>15 - 18</td>\n",
       "      <td>Hacking / Phishing your private details, Spamm...</td>\n",
       "      <td>19-30</td>\n",
       "      <td>No</td>\n",
       "      <td>NaN</td>\n",
       "      <td>NaN</td>\n",
       "      <td>Whatsapp / Email</td>\n",
       "      <td>for money</td>\n",
       "      <td>No</td>\n",
       "      <td>NaN</td>\n",
       "      <td>All of above</td>\n",
       "      <td>Lack of awareness</td>\n",
       "      <td>Cyber Bullying</td>\n",
       "      <td>Can be both</td>\n",
       "      <td>No</td>\n",
       "      <td>-</td>\n",
       "    </tr>\n",
       "    <tr>\n",
       "      <th>1</th>\n",
       "      <td>1/22/2022 11:40:39</td>\n",
       "      <td>nikhilkumar38674@gmail.com</td>\n",
       "      <td>Above 18</td>\n",
       "      <td>Hacking / Phishing your private details, Spamm...</td>\n",
       "      <td>equally vulnerable</td>\n",
       "      <td>No</td>\n",
       "      <td>NaN</td>\n",
       "      <td>NaN</td>\n",
       "      <td>Discord</td>\n",
       "      <td>computer friendly</td>\n",
       "      <td>Yes</td>\n",
       "      <td>privacy leak</td>\n",
       "      <td>People with Distinctive Physical appearance</td>\n",
       "      <td>Lack of awareness</td>\n",
       "      <td>equal impact</td>\n",
       "      <td>Can be both</td>\n",
       "      <td>Yes</td>\n",
       "      <td>no</td>\n",
       "    </tr>\n",
       "    <tr>\n",
       "      <th>2</th>\n",
       "      <td>1/22/2022 11:41:15</td>\n",
       "      <td>guptasayyam7@gmail.com</td>\n",
       "      <td>15 - 18</td>\n",
       "      <td>Spamming , Unlawfully morphing your images, Me...</td>\n",
       "      <td>15 - 18</td>\n",
       "      <td>Yes</td>\n",
       "      <td>Blocked / Reported The Bully</td>\n",
       "      <td>idk\\n</td>\n",
       "      <td>Discord</td>\n",
       "      <td>anyone can get cyber bullied</td>\n",
       "      <td>No</td>\n",
       "      <td>NaN</td>\n",
       "      <td>All of above</td>\n",
       "      <td>Lack of awareness</td>\n",
       "      <td>equal impact</td>\n",
       "      <td>Can be both</td>\n",
       "      <td>No</td>\n",
       "      <td>goverment should take a action</td>\n",
       "    </tr>\n",
       "  </tbody>\n",
       "</table>\n",
       "</div>"
      ],
      "text/plain": [
       "            timestamp                       email       age  \\\n",
       "0  1/22/2022 11:39:31      armadhav2007@gmail.com   15 - 18   \n",
       "1  1/22/2022 11:40:39  nikhilkumar38674@gmail.com  Above 18   \n",
       "2  1/22/2022 11:41:15      guptasayyam7@gmail.com   15 - 18   \n",
       "\n",
       "                                                term           age_group  \\\n",
       "0  Hacking / Phishing your private details, Spamm...               19-30   \n",
       "1  Hacking / Phishing your private details, Spamm...  equally vulnerable   \n",
       "2  Spamming , Unlawfully morphing your images, Me...             15 - 18   \n",
       "\n",
       "  cyber_bullied                       to_cope reason   platform_leader  \\\n",
       "0            No                           NaN    NaN  Whatsapp / Email   \n",
       "1            No                           NaN    NaN           Discord   \n",
       "2           Yes  Blocked / Reported The Bully  idk\\n           Discord   \n",
       "\n",
       "                 type_of_people you_bullied  reason_bully  \\\n",
       "0                    for money           No           NaN   \n",
       "1             computer friendly         Yes  privacy leak   \n",
       "2  anyone can get cyber bullied          No           NaN   \n",
       "\n",
       "                                kind_of_people        your_reason  \\\n",
       "0                                 All of above  Lack of awareness   \n",
       "1  People with Distinctive Physical appearance  Lack of awareness   \n",
       "2                                 All of above  Lack of awareness   \n",
       "\n",
       "           impact who_are_bullies  youtube_roasting  \\\n",
       "0  Cyber Bullying      Can be both               No   \n",
       "1    equal impact      Can be both              Yes   \n",
       "2    equal impact      Can be both               No   \n",
       "\n",
       "                 dank_communities  \n",
       "0                               -  \n",
       "1                             no   \n",
       "2  goverment should take a action  "
      ]
     },
     "execution_count": 5,
     "metadata": {},
     "output_type": "execute_result"
    }
   ],
   "source": [
    "df = df.rename(columns={\n",
    "       'Timestamp'                                                                            : 'timestamp',\n",
    "       'Email Address'                                                                        : 'email', \n",
    "       \"What's Your Age?\"                                                                     : 'age',\n",
    "       'What do you consider as Cyber bullying?'                                              : 'term',\n",
    "       'What Age group of people are most Vulnerable to Cyber bullying'                       : 'age_group',\n",
    "       'Have you ever been cyber bullied?'                                                    : 'cyber_bullied',\n",
    "       'If Yes , What was the way you dealt with the same'                                    : 'to_cope',\n",
    "       'What do you think made you the victim of cyber bullying?'                             : 'reason',\n",
    "       'What Platform according to you leads in cyber bullying'                               : 'platform_leader',\n",
    "       'What type of people are usually the bullies on the internet?'                         : 'type_of_people',\n",
    "       'Have You ever knowingly / Unknowingly bullied someone on the internet?'               : 'you_bullied',\n",
    "       'What lead you to bully someone ? ( if yes )'                                          : 'reason_bully',\n",
    "       'What kind of people are usually the victims of cyber-bullying?'                       : 'kind_of_people',\n",
    "       'What are the causes of cyber bullying according to you'                               : 'your_reason',\n",
    "       'What has more impact on an individual , Cyber Bullying or Bullying in real life ?'    : 'impact',\n",
    "       'Who are bullies usually?'                                                             : 'who_are_bullies ',\n",
    "       'Youtube Roasting is a form of bullying. Do you agree ?'                               : 'youtube_roasting',\n",
    "       'Your opinion on the dank communities on  the internet , usually involved in bullying?': 'dank_communities'})\n",
    "df.head(3)"
   ]
  },
  {
   "cell_type": "markdown",
   "metadata": {},
   "source": [
    "#### Теперь соотнесем названия новых колонок-перевод-полное название"
   ]
  },
  {
   "cell_type": "markdown",
   "metadata": {},
   "source": [
    "- 'timestamp' - 'Метка времени' - 'Timestamp'\n",
    "- 'email' - 'Адрес электронной почты' - 'Email Address'\n",
    "- 'age' - 'Сколько Вам лет?' - \"What's Your Age?\"\n",
    "- 'term' - 'Как Вы определяете кибербуллинг?' - 'What do you consider as Cyber bullying?'\n",
    "- 'age_group' - 'К какой возрастной группе люди наиболее подвержены кибербуллингу?' - 'What Age group of people are most Vulnerable to Cyber bullying'\n",
    "- 'cyber_bullied' - 'Сталкивались ли Вы с кибербуллингом?' - 'Have you ever been cyber bullied?'\n",
    "- 'to_cope' - 'Если да, как Вы справились с этим?' - 'If Yes , What was the way you dealt with the same'\n",
    "- 'reason' - 'Что, по-вашему, сделало Вас жертвой кибербуллинга?' - 'What do you think made you the victim of cyber bullying?'\n",
    "- 'platform_leader' - 'На какой платформе наибольшее число случаев кибербуллинга?' - 'What Platform according to you leads in cyber bullying'\n",
    "- 'type_of_people' - 'Какого типа люди, обычно являются насильниками в интернете?' - 'What type of people are usually the bullies on the internet?'\n",
    "- 'you_bullied' - 'Участие в кибербуллинге непосредственно или неосознанно?' - 'Have You ever knowingly / Unknowingly bullied someone on the internet?'\n",
    "- 'reason_bully' - 'Что подтолкнуло Вас издеваться над кем-то в интернете? (если да)' - 'What lead you to bully someone ? ( if yes )'\n",
    "- 'kind_of_people' - 'Какого типа люди обычно становятся жертвами кибер-буллинга?' - 'What kind of people are usually the victims of cyber-bullying?'\n",
    "- 'your_reason' - 'На ваш взгляд, каковы причины кибербуллинга?' - 'What are the causes of cyber bullying according to you'\n",
    "- 'impact' - 'Что оказывает больше воздействия на человека: кибербуллинг или реальные издевательства?' - 'What has more impact on an individual, Cyber Bullying or Bullying in real life ?'\n",
    "- 'who_are_bullies' - 'Кто, по-вашему, обычно является издевами?' - 'Who are bullies usually?'\n",
    "- 'youtube_roasting' - 'Является ли обжарка на YouTube формой буллинга? Вы согласны?' - 'Youtube Roasting is a form of bullying. Do you agree ?'\n",
    "- 'dank communities' - 'Ваше мнение о \"dank communities\" в интернете, обычно участвующие в буллинге?' - 'Your opinion on the dank communities on the internet, usually involved in bullying?'"
   ]
  },
  {
   "cell_type": "markdown",
   "metadata": {},
   "source": [
    "#### Посмотрим типы данных колонок и пропущенные значения"
   ]
  },
  {
   "cell_type": "code",
   "execution_count": 6,
   "metadata": {},
   "outputs": [
    {
     "name": "stdout",
     "output_type": "stream",
     "text": [
      "<class 'pandas.core.frame.DataFrame'>\n",
      "RangeIndex: 68 entries, 0 to 67\n",
      "Data columns (total 18 columns):\n",
      " #   Column            Non-Null Count  Dtype \n",
      "---  ------            --------------  ----- \n",
      " 0   timestamp         68 non-null     object\n",
      " 1   email             68 non-null     object\n",
      " 2   age               68 non-null     object\n",
      " 3   term              67 non-null     object\n",
      " 4   age_group         68 non-null     object\n",
      " 5   cyber_bullied     68 non-null     object\n",
      " 6   to_cope           29 non-null     object\n",
      " 7   reason            25 non-null     object\n",
      " 8   platform_leader   67 non-null     object\n",
      " 9   type_of_people    54 non-null     object\n",
      " 10  you_bullied       68 non-null     object\n",
      " 11  reason_bully      15 non-null     object\n",
      " 12  kind_of_people    68 non-null     object\n",
      " 13  your_reason       68 non-null     object\n",
      " 14  impact            68 non-null     object\n",
      " 15  who_are_bullies   68 non-null     object\n",
      " 16  youtube_roasting  68 non-null     object\n",
      " 17  dank_communities  68 non-null     object\n",
      "dtypes: object(18)\n",
      "memory usage: 9.7+ KB\n"
     ]
    }
   ],
   "source": [
    "df.info()"
   ]
  },
  {
   "cell_type": "markdown",
   "metadata": {},
   "source": [
    "#### Посмотрим на количество строк и колонок"
   ]
  },
  {
   "cell_type": "code",
   "execution_count": 7,
   "metadata": {},
   "outputs": [
    {
     "data": {
      "text/plain": [
       "(68, 18)"
      ]
     },
     "execution_count": 7,
     "metadata": {},
     "output_type": "execute_result"
    }
   ],
   "source": [
    "df.shape"
   ]
  },
  {
   "cell_type": "markdown",
   "metadata": {},
   "source": [
    "#### Переведем колонку с датой с object на datetime "
   ]
  },
  {
   "cell_type": "code",
   "execution_count": 8,
   "metadata": {},
   "outputs": [],
   "source": [
    "df.timestamp = pd.to_datetime(df.timestamp)"
   ]
  },
  {
   "cell_type": "markdown",
   "metadata": {},
   "source": [
    "#### Вычислим минимальное и максимальное значение в датах для более точного анализа"
   ]
  },
  {
   "cell_type": "code",
   "execution_count": 9,
   "metadata": {},
   "outputs": [
    {
     "name": "stdout",
     "output_type": "stream",
     "text": [
      "2022-01-22 11:39:31\n",
      "\n",
      "2022-01-23 19:22:06\n"
     ]
    }
   ],
   "source": [
    "print(df['timestamp'].min(),\n",
    "      df['timestamp'].max(), sep='\\n\\n')"
   ]
  },
  {
   "cell_type": "markdown",
   "metadata": {},
   "source": [
    "#### Посчитаем кол-во людей по возрастам"
   ]
  },
  {
   "cell_type": "code",
   "execution_count": 10,
   "metadata": {},
   "outputs": [
    {
     "data": {
      "text/html": [
       "<div>\n",
       "<style scoped>\n",
       "    .dataframe tbody tr th:only-of-type {\n",
       "        vertical-align: middle;\n",
       "    }\n",
       "\n",
       "    .dataframe tbody tr th {\n",
       "        vertical-align: top;\n",
       "    }\n",
       "\n",
       "    .dataframe thead th {\n",
       "        text-align: right;\n",
       "    }\n",
       "</style>\n",
       "<table border=\"1\" class=\"dataframe\">\n",
       "  <thead>\n",
       "    <tr style=\"text-align: right;\">\n",
       "      <th></th>\n",
       "      <th>age</th>\n",
       "      <th>count_people</th>\n",
       "    </tr>\n",
       "  </thead>\n",
       "  <tbody>\n",
       "    <tr>\n",
       "      <th>0</th>\n",
       "      <td>15 - 18</td>\n",
       "      <td>18</td>\n",
       "    </tr>\n",
       "    <tr>\n",
       "      <th>1</th>\n",
       "      <td>Above 18</td>\n",
       "      <td>5</td>\n",
       "    </tr>\n",
       "    <tr>\n",
       "      <th>2</th>\n",
       "      <td>Less than 15</td>\n",
       "      <td>2</td>\n",
       "    </tr>\n",
       "  </tbody>\n",
       "</table>\n",
       "</div>"
      ],
      "text/plain": [
       "            age  count_people\n",
       "0       15 - 18            18\n",
       "1      Above 18             5\n",
       "2  Less than 15             2"
      ]
     },
     "execution_count": 10,
     "metadata": {},
     "output_type": "execute_result"
    }
   ],
   "source": [
    "age_mean = df \\\n",
    "    .groupby('age', as_index=False) \\\n",
    "    .agg({'reason':'count'}) \\\n",
    "    .rename(columns={'reason':'count_people'})\n",
    "age_mean"
   ]
  },
  {
   "cell_type": "markdown",
   "metadata": {},
   "source": [
    "#### Вычислим процентное значение для каждой группы"
   ]
  },
  {
   "cell_type": "code",
   "execution_count": 11,
   "metadata": {},
   "outputs": [
    {
     "name": "stdout",
     "output_type": "stream",
     "text": [
      "            age  count_people  percentage\n",
      "0       15 - 18            18        72.0\n",
      "1      Above 18             5        20.0\n",
      "2  Less than 15             2         8.0\n"
     ]
    }
   ],
   "source": [
    "total_people = age_mean['count_people'].sum()\n",
    "\n",
    "age_mean['percentage'] = (age_mean['count_people'] / total_people) * 100\n",
    "\n",
    "print(age_mean)"
   ]
  },
  {
   "cell_type": "markdown",
   "metadata": {},
   "source": [
    "#### Посчитаем количество людей, которые сталкивались с кибербуллингом и далее визуализируем запрос"
   ]
  },
  {
   "cell_type": "code",
   "execution_count": 12,
   "metadata": {},
   "outputs": [
    {
     "data": {
      "text/html": [
       "<div>\n",
       "<style scoped>\n",
       "    .dataframe tbody tr th:only-of-type {\n",
       "        vertical-align: middle;\n",
       "    }\n",
       "\n",
       "    .dataframe tbody tr th {\n",
       "        vertical-align: top;\n",
       "    }\n",
       "\n",
       "    .dataframe thead th {\n",
       "        text-align: right;\n",
       "    }\n",
       "</style>\n",
       "<table border=\"1\" class=\"dataframe\">\n",
       "  <thead>\n",
       "    <tr style=\"text-align: right;\">\n",
       "      <th></th>\n",
       "      <th>cyber_bullied</th>\n",
       "      <th>count_people</th>\n",
       "    </tr>\n",
       "  </thead>\n",
       "  <tbody>\n",
       "    <tr>\n",
       "      <th>0</th>\n",
       "      <td>No</td>\n",
       "      <td>8</td>\n",
       "    </tr>\n",
       "    <tr>\n",
       "      <th>1</th>\n",
       "      <td>Yes</td>\n",
       "      <td>17</td>\n",
       "    </tr>\n",
       "  </tbody>\n",
       "</table>\n",
       "</div>"
      ],
      "text/plain": [
       "  cyber_bullied  count_people\n",
       "0            No             8\n",
       "1           Yes            17"
      ]
     },
     "execution_count": 12,
     "metadata": {},
     "output_type": "execute_result"
    }
   ],
   "source": [
    "count_cyber_bullied = df \\\n",
    "    .groupby('cyber_bullied', as_index=False) \\\n",
    "    .agg({'reason':'count'}) \\\n",
    "    .rename(columns={'reason':'count_people'})\n",
    "count_cyber_bullied"
   ]
  },
  {
   "cell_type": "markdown",
   "metadata": {},
   "source": [
    "#### Вычислим процентное значение для каждой группы"
   ]
  },
  {
   "cell_type": "code",
   "execution_count": 13,
   "metadata": {},
   "outputs": [
    {
     "name": "stdout",
     "output_type": "stream",
     "text": [
      "  cyber_bullied  count_people  percentage\n",
      "0            No             8        32.0\n",
      "1           Yes            17        68.0\n"
     ]
    }
   ],
   "source": [
    "total_cyber_bullied = count_cyber_bullied['count_people'].sum()\n",
    "\n",
    "count_cyber_bullied['percentage'] = (count_cyber_bullied['count_people'] / total_cyber_bullied) * 100\n",
    "\n",
    "print(count_cyber_bullied)"
   ]
  },
  {
   "cell_type": "code",
   "execution_count": 14,
   "metadata": {},
   "outputs": [
    {
     "data": {
      "image/png": "[encoded data removed]",
      "text/plain": [
       "<Figure size 432x288 with 1 Axes>"
      ]
     },
     "metadata": {
      "needs_background": "light"
     },
     "output_type": "display_data"
    }
   ],
   "source": [
    "cyber_bullied = count_cyber_bullied['cyber_bullied']\n",
    "reason_count = count_cyber_bullied['count_people']\n",
    "\n",
    "plt.bar(cyber_bullied, reason_count)\n",
    "plt.xlabel('Сyber bullied')\n",
    "plt.ylabel('Count')\n",
    "plt.title('Count of Сyber bullied')\n",
    "\n",
    "plt.show()"
   ]
  },
  {
   "cell_type": "markdown",
   "metadata": {},
   "source": [
    "#### Посчитаем количество людей, которые кибербуллилили сами и далее визуализируем запрос"
   ]
  },
  {
   "cell_type": "code",
   "execution_count": 15,
   "metadata": {},
   "outputs": [
    {
     "data": {
      "text/html": [
       "<div>\n",
       "<style scoped>\n",
       "    .dataframe tbody tr th:only-of-type {\n",
       "        vertical-align: middle;\n",
       "    }\n",
       "\n",
       "    .dataframe tbody tr th {\n",
       "        vertical-align: top;\n",
       "    }\n",
       "\n",
       "    .dataframe thead th {\n",
       "        text-align: right;\n",
       "    }\n",
       "</style>\n",
       "<table border=\"1\" class=\"dataframe\">\n",
       "  <thead>\n",
       "    <tr style=\"text-align: right;\">\n",
       "      <th></th>\n",
       "      <th>you_bullied</th>\n",
       "      <th>count_people</th>\n",
       "    </tr>\n",
       "  </thead>\n",
       "  <tbody>\n",
       "    <tr>\n",
       "      <th>0</th>\n",
       "      <td>No</td>\n",
       "      <td>19</td>\n",
       "    </tr>\n",
       "    <tr>\n",
       "      <th>1</th>\n",
       "      <td>Yes</td>\n",
       "      <td>6</td>\n",
       "    </tr>\n",
       "  </tbody>\n",
       "</table>\n",
       "</div>"
      ],
      "text/plain": [
       "  you_bullied  count_people\n",
       "0          No            19\n",
       "1         Yes             6"
      ]
     },
     "execution_count": 15,
     "metadata": {},
     "output_type": "execute_result"
    }
   ],
   "source": [
    "count_you_bullied = df \\\n",
    "    .groupby('you_bullied', as_index=False) \\\n",
    "    .agg({'reason':'count'}) \\\n",
    "    .rename(columns={'reason':'count_people'})\n",
    "count_you_bullied"
   ]
  },
  {
   "cell_type": "markdown",
   "metadata": {},
   "source": [
    "#### Вычислим процентное значение для каждой группы"
   ]
  },
  {
   "cell_type": "code",
   "execution_count": 16,
   "metadata": {},
   "outputs": [
    {
     "name": "stdout",
     "output_type": "stream",
     "text": [
      "  you_bullied  count_people  percentage\n",
      "0          No            19        76.0\n",
      "1         Yes             6        24.0\n"
     ]
    }
   ],
   "source": [
    "total_you_bullied = count_you_bullied['count_people'].sum()\n",
    "\n",
    "count_you_bullied['percentage'] = (count_you_bullied['count_people'] / total_you_bullied) * 100\n",
    "\n",
    "print(count_you_bullied)"
   ]
  },
  {
   "cell_type": "code",
   "execution_count": 17,
   "metadata": {},
   "outputs": [
    {
     "data": {
      "image/png": "[encoded data removed]",
      "text/plain": [
       "<Figure size 432x288 with 1 Axes>"
      ]
     },
     "metadata": {
      "needs_background": "light"
     },
     "output_type": "display_data"
    }
   ],
   "source": [
    "count_you_bullied = [{\"you_bullied\": \"No\", \"count_people\": 19},\n",
    "                     {\"you_bullied\": \"Yes\", \"count_people\": 6}]\n",
    "\n",
    "x = [item[\"you_bullied\"] for item in count_you_bullied]\n",
    "y = [item[\"count_people\"] for item in count_you_bullied]\n",
    "\n",
    "plt.bar(x, y)\n",
    "plt.xlabel(\"You Bullied\")\n",
    "plt.ylabel(\"Count\")\n",
    "plt.title(\"Number of Participants Who Experienced Bullying\")\n",
    "\n",
    "plt.show()"
   ]
  },
  {
   "cell_type": "markdown",
   "metadata": {},
   "source": [
    "#### Посмотрим, какие люди по мнению респондентов больше подвержены кибербуллингу"
   ]
  },
  {
   "cell_type": "code",
   "execution_count": 18,
   "metadata": {},
   "outputs": [
    {
     "data": {
      "text/html": [
       "<div>\n",
       "<style scoped>\n",
       "    .dataframe tbody tr th:only-of-type {\n",
       "        vertical-align: middle;\n",
       "    }\n",
       "\n",
       "    .dataframe tbody tr th {\n",
       "        vertical-align: top;\n",
       "    }\n",
       "\n",
       "    .dataframe thead th {\n",
       "        text-align: right;\n",
       "    }\n",
       "</style>\n",
       "<table border=\"1\" class=\"dataframe\">\n",
       "  <thead>\n",
       "    <tr style=\"text-align: right;\">\n",
       "      <th></th>\n",
       "      <th>kind_of_people</th>\n",
       "      <th>count_people</th>\n",
       "    </tr>\n",
       "  </thead>\n",
       "  <tbody>\n",
       "    <tr>\n",
       "      <th>0</th>\n",
       "      <td>All of above</td>\n",
       "      <td>22</td>\n",
       "    </tr>\n",
       "    <tr>\n",
       "      <th>1</th>\n",
       "      <td>Influencers / Famous People</td>\n",
       "      <td>2</td>\n",
       "    </tr>\n",
       "    <tr>\n",
       "      <th>2</th>\n",
       "      <td>People with Distinctive Physical appearance</td>\n",
       "      <td>1</td>\n",
       "    </tr>\n",
       "    <tr>\n",
       "      <th>3</th>\n",
       "      <td>People with different sexual orientation</td>\n",
       "      <td>0</td>\n",
       "    </tr>\n",
       "  </tbody>\n",
       "</table>\n",
       "</div>"
      ],
      "text/plain": [
       "                                kind_of_people  count_people\n",
       "0                                 All of above            22\n",
       "1                  Influencers / Famous People             2\n",
       "2  People with Distinctive Physical appearance             1\n",
       "3     People with different sexual orientation             0"
      ]
     },
     "execution_count": 18,
     "metadata": {},
     "output_type": "execute_result"
    }
   ],
   "source": [
    "count_kind_of_people = df \\\n",
    "    .groupby('kind_of_people', as_index=False) \\\n",
    "    .agg({'reason':'count'}) \\\n",
    "    .rename(columns={'reason':'count_people'})\n",
    "count_kind_of_people"
   ]
  },
  {
   "cell_type": "markdown",
   "metadata": {},
   "source": [
    "#### Вычислим процентное значение для каждой группы"
   ]
  },
  {
   "cell_type": "code",
   "execution_count": 19,
   "metadata": {},
   "outputs": [
    {
     "name": "stdout",
     "output_type": "stream",
     "text": [
      "                                kind_of_people  count_people  percentage\n",
      "0                                 All of above            22        88.0\n",
      "1                  Influencers / Famous People             2         8.0\n",
      "2  People with Distinctive Physical appearance             1         4.0\n",
      "3     People with different sexual orientation             0         0.0\n"
     ]
    }
   ],
   "source": [
    "total_kind_of_people = count_kind_of_people['count_people'].sum()\n",
    "\n",
    "count_kind_of_people['percentage'] = (count_kind_of_people['count_people'] / total_kind_of_people) * 100\n",
    "\n",
    "print(count_kind_of_people)"
   ]
  },
  {
   "cell_type": "markdown",
   "metadata": {},
   "source": [
    "#### Посмотрим, на какой интернет платформе по мнению респондентов происходит большее кол-во кибербуллинга"
   ]
  },
  {
   "cell_type": "code",
   "execution_count": 20,
   "metadata": {},
   "outputs": [
    {
     "data": {
      "text/html": [
       "<div>\n",
       "<style scoped>\n",
       "    .dataframe tbody tr th:only-of-type {\n",
       "        vertical-align: middle;\n",
       "    }\n",
       "\n",
       "    .dataframe tbody tr th {\n",
       "        vertical-align: top;\n",
       "    }\n",
       "\n",
       "    .dataframe thead th {\n",
       "        text-align: right;\n",
       "    }\n",
       "</style>\n",
       "<table border=\"1\" class=\"dataframe\">\n",
       "  <thead>\n",
       "    <tr style=\"text-align: right;\">\n",
       "      <th></th>\n",
       "      <th>platform_leader</th>\n",
       "      <th>count_people</th>\n",
       "    </tr>\n",
       "  </thead>\n",
       "  <tbody>\n",
       "    <tr>\n",
       "      <th>0</th>\n",
       "      <td>All of the above</td>\n",
       "      <td>10</td>\n",
       "    </tr>\n",
       "    <tr>\n",
       "      <th>8</th>\n",
       "      <td>Instagram</td>\n",
       "      <td>5</td>\n",
       "    </tr>\n",
       "    <tr>\n",
       "      <th>4</th>\n",
       "      <td>Discord</td>\n",
       "      <td>4</td>\n",
       "    </tr>\n",
       "    <tr>\n",
       "      <th>6</th>\n",
       "      <td>Facebook</td>\n",
       "      <td>2</td>\n",
       "    </tr>\n",
       "    <tr>\n",
       "      <th>1</th>\n",
       "      <td>All platforms</td>\n",
       "      <td>1</td>\n",
       "    </tr>\n",
       "    <tr>\n",
       "      <th>2</th>\n",
       "      <td>Can be any interest source including calling b...</td>\n",
       "      <td>1</td>\n",
       "    </tr>\n",
       "    <tr>\n",
       "      <th>7</th>\n",
       "      <td>Hum💪🏻 tum mein😖 itne ched karenge 🙀👌🏻 ... ki c...</td>\n",
       "      <td>1</td>\n",
       "    </tr>\n",
       "    <tr>\n",
       "      <th>3</th>\n",
       "      <td>Cyber bullying Takes place in almost every Soc...</td>\n",
       "      <td>0</td>\n",
       "    </tr>\n",
       "    <tr>\n",
       "      <th>5</th>\n",
       "      <td>Every social platform may lead to cyber bullying</td>\n",
       "      <td>0</td>\n",
       "    </tr>\n",
       "    <tr>\n",
       "      <th>9</th>\n",
       "      <td>Instagram and YouTube</td>\n",
       "      <td>0</td>\n",
       "    </tr>\n",
       "    <tr>\n",
       "      <th>10</th>\n",
       "      <td>It happens on all apps what u use,depends on a...</td>\n",
       "      <td>0</td>\n",
       "    </tr>\n",
       "    <tr>\n",
       "      <th>11</th>\n",
       "      <td>Reddit</td>\n",
       "      <td>0</td>\n",
       "    </tr>\n",
       "    <tr>\n",
       "      <th>12</th>\n",
       "      <td>Whatsapp / Email</td>\n",
       "      <td>0</td>\n",
       "    </tr>\n",
       "  </tbody>\n",
       "</table>\n",
       "</div>"
      ],
      "text/plain": [
       "                                      platform_leader  count_people\n",
       "0                                    All of the above            10\n",
       "8                                           Instagram             5\n",
       "4                                             Discord             4\n",
       "6                                            Facebook             2\n",
       "1                                       All platforms             1\n",
       "2   Can be any interest source including calling b...             1\n",
       "7   Hum💪🏻 tum mein😖 itne ched karenge 🙀👌🏻 ... ki c...             1\n",
       "3   Cyber bullying Takes place in almost every Soc...             0\n",
       "5    Every social platform may lead to cyber bullying             0\n",
       "9                               Instagram and YouTube             0\n",
       "10  It happens on all apps what u use,depends on a...             0\n",
       "11                                             Reddit             0\n",
       "12                                   Whatsapp / Email             0"
      ]
     },
     "execution_count": 20,
     "metadata": {},
     "output_type": "execute_result"
    }
   ],
   "source": [
    "count_platform_leader = df \\\n",
    "    .groupby('platform_leader', as_index=False) \\\n",
    "    .agg({'reason':'count'}) \\\n",
    "    .rename(columns={'reason':'count_people'}) \\\n",
    "    .sort_values('count_people',ascending=False)\n",
    "count_platform_leader"
   ]
  },
  {
   "cell_type": "markdown",
   "metadata": {},
   "source": [
    "#### Посмотрим, что по мнению респондентов оказывает больше воздействия на человека: кибербуллинг или реальные издевательства "
   ]
  },
  {
   "cell_type": "code",
   "execution_count": 21,
   "metadata": {},
   "outputs": [
    {
     "data": {
      "text/html": [
       "<div>\n",
       "<style scoped>\n",
       "    .dataframe tbody tr th:only-of-type {\n",
       "        vertical-align: middle;\n",
       "    }\n",
       "\n",
       "    .dataframe tbody tr th {\n",
       "        vertical-align: top;\n",
       "    }\n",
       "\n",
       "    .dataframe thead th {\n",
       "        text-align: right;\n",
       "    }\n",
       "</style>\n",
       "<table border=\"1\" class=\"dataframe\">\n",
       "  <thead>\n",
       "    <tr style=\"text-align: right;\">\n",
       "      <th></th>\n",
       "      <th>impact</th>\n",
       "      <th>count_people</th>\n",
       "    </tr>\n",
       "  </thead>\n",
       "  <tbody>\n",
       "    <tr>\n",
       "      <th>2</th>\n",
       "      <td>equal impact</td>\n",
       "      <td>18</td>\n",
       "    </tr>\n",
       "    <tr>\n",
       "      <th>0</th>\n",
       "      <td>Bullying in real life</td>\n",
       "      <td>5</td>\n",
       "    </tr>\n",
       "    <tr>\n",
       "      <th>1</th>\n",
       "      <td>Cyber Bullying</td>\n",
       "      <td>2</td>\n",
       "    </tr>\n",
       "  </tbody>\n",
       "</table>\n",
       "</div>"
      ],
      "text/plain": [
       "                  impact  count_people\n",
       "2           equal impact            18\n",
       "0  Bullying in real life             5\n",
       "1         Cyber Bullying             2"
      ]
     },
     "execution_count": 21,
     "metadata": {},
     "output_type": "execute_result"
    }
   ],
   "source": [
    "count_impact = df \\\n",
    "    .groupby('impact', as_index=False) \\\n",
    "    .agg({'reason':'count'}) \\\n",
    "    .rename(columns={'reason':'count_people'}) \\\n",
    "    .sort_values('count_people',ascending=False)\n",
    "count_impact"
   ]
  },
  {
   "cell_type": "markdown",
   "metadata": {},
   "source": [
    "#### Вычислим процентное значение для каждой группы"
   ]
  },
  {
   "cell_type": "code",
   "execution_count": 22,
   "metadata": {},
   "outputs": [
    {
     "name": "stdout",
     "output_type": "stream",
     "text": [
      "                  impact  count_people  percentage\n",
      "2           equal impact            18        72.0\n",
      "0  Bullying in real life             5        20.0\n",
      "1         Cyber Bullying             2         8.0\n"
     ]
    }
   ],
   "source": [
    "total_impact = count_impact['count_people'].sum()\n",
    "\n",
    "count_impact['percentage'] = (count_impact['count_people'] / total_impact) * 100\n",
    "\n",
    "print(count_impact)"
   ]
  },
  {
   "cell_type": "code",
   "execution_count": 23,
   "metadata": {},
   "outputs": [
    {
     "data": {
      "image/png": "[encoded data removed]",
      "text/plain": [
       "<Figure size 432x288 with 1 Axes>"
      ]
     },
     "metadata": {},
     "output_type": "display_data"
    }
   ],
   "source": [
    "data = count_impact['count_people']\n",
    "labels = count_impact['impact']\n",
    "\n",
    "plt.pie(data, labels=labels, autopct='%1.1f%%', startangle=90)\n",
    "plt.axis('equal')\n",
    "plt.title('What has more impact on an individual, Cyber Bullying or Bullying in real life')\n",
    "\n",
    "plt.show()"
   ]
  },
  {
   "cell_type": "markdown",
   "metadata": {},
   "source": [
    "#### Посмотрим, что для большинства респондентов значит термин \"кибербуллинг\""
   ]
  },
  {
   "cell_type": "code",
   "execution_count": 24,
   "metadata": {},
   "outputs": [
    {
     "data": {
      "text/html": [
       "<div>\n",
       "<style scoped>\n",
       "    .dataframe tbody tr th:only-of-type {\n",
       "        vertical-align: middle;\n",
       "    }\n",
       "\n",
       "    .dataframe tbody tr th {\n",
       "        vertical-align: top;\n",
       "    }\n",
       "\n",
       "    .dataframe thead th {\n",
       "        text-align: right;\n",
       "    }\n",
       "</style>\n",
       "<table border=\"1\" class=\"dataframe\">\n",
       "  <thead>\n",
       "    <tr style=\"text-align: right;\">\n",
       "      <th></th>\n",
       "      <th>term</th>\n",
       "      <th>count_people</th>\n",
       "    </tr>\n",
       "  </thead>\n",
       "  <tbody>\n",
       "    <tr>\n",
       "      <th>10</th>\n",
       "      <td>Hacking / Phishing your private details, Mean/...</td>\n",
       "      <td>4</td>\n",
       "    </tr>\n",
       "    <tr>\n",
       "      <th>26</th>\n",
       "      <td>Messages and Calls containing threats</td>\n",
       "      <td>3</td>\n",
       "    </tr>\n",
       "    <tr>\n",
       "      <th>5</th>\n",
       "      <td>Hacking / Phishing your private details, Mean/...</td>\n",
       "      <td>2</td>\n",
       "    </tr>\n",
       "    <tr>\n",
       "      <th>9</th>\n",
       "      <td>Hacking / Phishing your private details, Mean/...</td>\n",
       "      <td>2</td>\n",
       "    </tr>\n",
       "    <tr>\n",
       "      <th>0</th>\n",
       "      <td>Behaving in an inappropriate way while hiding ...</td>\n",
       "      <td>1</td>\n",
       "    </tr>\n",
       "    <tr>\n",
       "      <th>22</th>\n",
       "      <td>Mean/Inappropriate Comments, Spamming , Unlawf...</td>\n",
       "      <td>1</td>\n",
       "    </tr>\n",
       "    <tr>\n",
       "      <th>28</th>\n",
       "      <td>Pranks Calls by strangers, Spamming , Unlawful...</td>\n",
       "      <td>1</td>\n",
       "    </tr>\n",
       "    <tr>\n",
       "      <th>25</th>\n",
       "      <td>Mean/Inappropriate Comments, Spamming , Unlawf...</td>\n",
       "      <td>1</td>\n",
       "    </tr>\n",
       "    <tr>\n",
       "      <th>24</th>\n",
       "      <td>Mean/Inappropriate Comments, Spamming , Unlawf...</td>\n",
       "      <td>1</td>\n",
       "    </tr>\n",
       "    <tr>\n",
       "      <th>23</th>\n",
       "      <td>Mean/Inappropriate Comments, Spamming , Unlawf...</td>\n",
       "      <td>1</td>\n",
       "    </tr>\n",
       "    <tr>\n",
       "      <th>17</th>\n",
       "      <td>Hacking / Phishing your private details, Spamm...</td>\n",
       "      <td>1</td>\n",
       "    </tr>\n",
       "    <tr>\n",
       "      <th>21</th>\n",
       "      <td>Mean/Inappropriate Comments, Pranks Calls by s...</td>\n",
       "      <td>1</td>\n",
       "    </tr>\n",
       "    <tr>\n",
       "      <th>1</th>\n",
       "      <td>Hacking / Phishing your private details</td>\n",
       "      <td>1</td>\n",
       "    </tr>\n",
       "    <tr>\n",
       "      <th>8</th>\n",
       "      <td>Hacking / Phishing your private details, Mean/...</td>\n",
       "      <td>1</td>\n",
       "    </tr>\n",
       "    <tr>\n",
       "      <th>6</th>\n",
       "      <td>Hacking / Phishing your private details, Mean/...</td>\n",
       "      <td>1</td>\n",
       "    </tr>\n",
       "    <tr>\n",
       "      <th>4</th>\n",
       "      <td>Hacking / Phishing your private details, Mean/...</td>\n",
       "      <td>1</td>\n",
       "    </tr>\n",
       "    <tr>\n",
       "      <th>2</th>\n",
       "      <td>Hacking / Phishing your private details, Mean/...</td>\n",
       "      <td>1</td>\n",
       "    </tr>\n",
       "    <tr>\n",
       "      <th>29</th>\n",
       "      <td>Spamming , Unlawfully morphing your images, Me...</td>\n",
       "      <td>1</td>\n",
       "    </tr>\n",
       "  </tbody>\n",
       "</table>\n",
       "</div>"
      ],
      "text/plain": [
       "                                                 term  count_people\n",
       "10  Hacking / Phishing your private details, Mean/...             4\n",
       "26              Messages and Calls containing threats             3\n",
       "5   Hacking / Phishing your private details, Mean/...             2\n",
       "9   Hacking / Phishing your private details, Mean/...             2\n",
       "0   Behaving in an inappropriate way while hiding ...             1\n",
       "22  Mean/Inappropriate Comments, Spamming , Unlawf...             1\n",
       "28  Pranks Calls by strangers, Spamming , Unlawful...             1\n",
       "25  Mean/Inappropriate Comments, Spamming , Unlawf...             1\n",
       "24  Mean/Inappropriate Comments, Spamming , Unlawf...             1\n",
       "23  Mean/Inappropriate Comments, Spamming , Unlawf...             1\n",
       "17  Hacking / Phishing your private details, Spamm...             1\n",
       "21  Mean/Inappropriate Comments, Pranks Calls by s...             1\n",
       "1             Hacking / Phishing your private details             1\n",
       "8   Hacking / Phishing your private details, Mean/...             1\n",
       "6   Hacking / Phishing your private details, Mean/...             1\n",
       "4   Hacking / Phishing your private details, Mean/...             1\n",
       "2   Hacking / Phishing your private details, Mean/...             1\n",
       "29  Spamming , Unlawfully morphing your images, Me...             1"
      ]
     },
     "execution_count": 24,
     "metadata": {},
     "output_type": "execute_result"
    }
   ],
   "source": [
    "count_term = df \\\n",
    "    .groupby('term', as_index=False) \\\n",
    "    .agg({'reason':'count'}) \\\n",
    "    .query('reason != 0') \\\n",
    "    .rename(columns={'reason':'count_people'}) \\\n",
    "    .sort_values('count_people',ascending=False)\n",
    "count_term"
   ]
  },
  {
   "cell_type": "markdown",
   "metadata": {},
   "source": [
    "#### Посмотрим, какие причины у людей, которые кибербуллят"
   ]
  },
  {
   "cell_type": "code",
   "execution_count": 25,
   "metadata": {},
   "outputs": [
    {
     "data": {
      "text/html": [
       "<div>\n",
       "<style scoped>\n",
       "    .dataframe tbody tr th:only-of-type {\n",
       "        vertical-align: middle;\n",
       "    }\n",
       "\n",
       "    .dataframe tbody tr th {\n",
       "        vertical-align: top;\n",
       "    }\n",
       "\n",
       "    .dataframe thead th {\n",
       "        text-align: right;\n",
       "    }\n",
       "</style>\n",
       "<table border=\"1\" class=\"dataframe\">\n",
       "  <thead>\n",
       "    <tr style=\"text-align: right;\">\n",
       "      <th></th>\n",
       "      <th>your_reason</th>\n",
       "      <th>count_people</th>\n",
       "    </tr>\n",
       "  </thead>\n",
       "  <tbody>\n",
       "    <tr>\n",
       "      <th>2</th>\n",
       "      <td>Lack of awareness</td>\n",
       "      <td>13</td>\n",
       "    </tr>\n",
       "    <tr>\n",
       "      <th>3</th>\n",
       "      <td>Mental Health Problems</td>\n",
       "      <td>6</td>\n",
       "    </tr>\n",
       "    <tr>\n",
       "      <th>4</th>\n",
       "      <td>Sadism</td>\n",
       "      <td>4</td>\n",
       "    </tr>\n",
       "    <tr>\n",
       "      <th>0</th>\n",
       "      <td>Casteism / Racism</td>\n",
       "      <td>2</td>\n",
       "    </tr>\n",
       "    <tr>\n",
       "      <th>1</th>\n",
       "      <td>Gender Bias</td>\n",
       "      <td>0</td>\n",
       "    </tr>\n",
       "  </tbody>\n",
       "</table>\n",
       "</div>"
      ],
      "text/plain": [
       "              your_reason  count_people\n",
       "2       Lack of awareness            13\n",
       "3  Mental Health Problems             6\n",
       "4                  Sadism             4\n",
       "0       Casteism / Racism             2\n",
       "1             Gender Bias             0"
      ]
     },
     "execution_count": 25,
     "metadata": {},
     "output_type": "execute_result"
    }
   ],
   "source": [
    "count_your_reason = df \\\n",
    "    .groupby('your_reason', as_index=False) \\\n",
    "    .agg({'reason':'count'}) \\\n",
    "    .rename(columns={'reason':'count_people'}) \\\n",
    "    .sort_values('count_people',ascending=False)\n",
    "count_your_reason"
   ]
  },
  {
   "cell_type": "markdown",
   "metadata": {},
   "source": [
    "#### Вычислим процентное значение для каждой группы"
   ]
  },
  {
   "cell_type": "code",
   "execution_count": 26,
   "metadata": {},
   "outputs": [
    {
     "name": "stdout",
     "output_type": "stream",
     "text": [
      "              your_reason  count_people  percentage\n",
      "2       Lack of awareness            13        52.0\n",
      "3  Mental Health Problems             6        24.0\n",
      "4                  Sadism             4        16.0\n",
      "0       Casteism / Racism             2         8.0\n",
      "1             Gender Bias             0         0.0\n"
     ]
    }
   ],
   "source": [
    "total_your_reason = count_your_reason['count_people'].sum()\n",
    "\n",
    "count_your_reason['percentage'] = (count_your_reason['count_people'] / total_your_reason) * 100\n",
    "\n",
    "print(count_your_reason)"
   ]
  },
  {
   "cell_type": "markdown",
   "metadata": {},
   "source": [
    "#### Наблюдения:\n",
    "\n",
    "- Опрос проводился в 2022 году в течение 1 дня. В опросе участвовали 68 человек.\n",
    "- 72% опрошенных находятся в возрасте от 15 до 18 лет, 20% - старше 18 лет, а 8% - младше 15 лет.\n",
    "- Порядка 68% опрошенных сталкивались с травлей в интернете. При этом 24% опрошенных сами травили других людей в интернете.\n",
    "- 88% опрошенных считают, что кибербулингу могут подвергаться все люди, а 8% считают, что только артисты могут быть подвержены травле. Большинство людей также считает, что травлю можно получить на любой интернет-платформе.\n",
    "- 72% респондентов считают, что травля в реальной жизни и в интернете одинаково сказывается на ментальном здоровье.\n",
    "- По мнению респондентов, причины, почему люди кибербуллят, заключаются в недостаточной информированности - так считают 52% опрошенных, проблемах с психическим здоровьем - 24% опрошенных, садизме - 16% опрошенных и расизме - 8% опрошенных."
   ]
  },
  {
   "cell_type": "markdown",
   "metadata": {},
   "source": [
    "P.S. Данные взяты из открытых источников с сайта kaggle, а информация по кибербуллингу с сайта https://kids.kaspersky.ru/product"
   ]
  },
  {
   "cell_type": "code",
   "execution_count": null,
   "metadata": {},
   "outputs": [],
   "source": []
  }
 ],
 "metadata": {
  "kernelspec": {
   "display_name": "Python 3",
   "language": "python",
   "name": "python3"
  },
  "language_info": {
   "codemirror_mode": {
    "name": "ipython",
    "version": 3
   },
   "file_extension": ".py",
   "mimetype": "text/x-python",
   "name": "python",
   "nbconvert_exporter": "python",
   "pygments_lexer": "ipython3",
   "version": "3.7.3"
  }
 },
 "nbformat": 4,
 "nbformat_minor": 4
}
